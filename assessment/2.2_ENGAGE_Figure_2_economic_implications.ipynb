{
 "cells": [
  {
   "cell_type": "markdown",
   "metadata": {},
   "source": [
    "<img style=\"float: right; height: 80px;\" src=\"../_static/ENGAGE.png\">\n",
    "\n",
    "# 2.2. Figure 2 - Economic implications of net-zero scenarios\n",
    "\n",
    "<a href=\"https://github.com/iiasa/ENGAGE-netzero-analysis/blob/main/LICENSE\">\n",
    "<img style=\"float: left; height: 30px; padding: 5px; margin-top: 8px; \" src=\"https://img.shields.io/github/license/iiasa/ENGAGE-netzero-analysis\">\n",
    "</a>\n",
    "\n",
    "Licensed under the [MIT License](https://github.com/iiasa/ENGAGE-netzero-analysis/blob/main/LICENSE).\n",
    "\n",
    "This notebook is part of a repository to generate figures and analysis for the manuscript\n",
    "\n",
    "> Keywan Riahi, Christoph Bertram, Daniel Huppmann, et al. <br />\n",
    "> Cost and attainability of meeting stringent climate targets without overshoot <br />\n",
    "> **Nature Climate Change**, 2021 <br />\n",
    "> doi: [10.1038/s41558-021-01215-2](https://doi.org/10.1038/s41558-021-01215-2)\n",
    "\n",
    "The scenario data used in this analysis should be cited as\n",
    "\n",
    "> ENGAGE Global Scenarios (Version 2.0) <br />\n",
    "> doi: [10.5281/zenodo.5553976](https://doi.org/10.5281/zenodo.5553976)\n",
    "\n",
    "The data can be accessed and downloaded via the **ENGAGE Scenario Explorer** at [https://data.ece.iiasa.ac.at/engage](https://data.ece.iiasa.ac.at/engage).<br />\n",
    "*Please refer to the [license](https://data.ece.iiasa.ac.at/engage/#/license)\n",
    "of the scenario ensemble before redistributing this data or adapted material.*\n",
    "\n",
    "The source code of this notebook is available on GitHub\n",
    "at [https://github.com/iiasa/ENGAGE-netzero-analysis](https://github.com/iiasa/ENGAGE-netzero-analysis).<br />\n",
    "A rendered version can be seen at [https://data.ece.iiasa.ac.at/engage-netzero-analysis](https://data.ece.iiasa.ac.at/engage-netzero-analysis)."
   ]
  },
  {
   "cell_type": "code",
   "execution_count": null,
   "metadata": {},
   "outputs": [],
   "source": [
    "from pathlib import Path\n",
    "import math\n",
    "import numpy as np\n",
    "import matplotlib as mpl\n",
    "import matplotlib.pyplot as plt\n",
    "\n",
    "import pyam"
   ]
  },
  {
   "cell_type": "markdown",
   "metadata": {},
   "source": [
    "## Import the scenario snapshot used for this analysis and the plotting configuration"
   ]
  },
  {
   "cell_type": "code",
   "execution_count": null,
   "metadata": {},
   "outputs": [],
   "source": [
    "data_folder = Path(\"../data/\")\n",
    "\n",
    "output_folder = Path(\"output\")\n",
    "output_format = \"png\"\n",
    "plot_args = dict(facecolor=\"white\", dpi=300)"
   ]
  },
  {
   "cell_type": "code",
   "execution_count": null,
   "metadata": {},
   "outputs": [],
   "source": [
    "rc = pyam.run_control()\n",
    "rc.update(\"plotting_config.yaml\")"
   ]
  },
  {
   "cell_type": "code",
   "execution_count": null,
   "metadata": {},
   "outputs": [],
   "source": [
    "df = (\n",
    "    pyam.IamDataFrame(data_folder / \"ENGAGE_fig2.xlsx\")\n",
    "    .filter(year=range(2020, 2101, 5))\n",
    "    .convert_unit(\"billion US$2010/yr\", \"trillion US$2010/yr\", factor=1e-3)\n",
    ")"
   ]
  },
  {
   "cell_type": "markdown",
   "metadata": {},
   "source": [
    "Apply renaming for nicer plots."
   ]
  },
  {
   "cell_type": "code",
   "execution_count": null,
   "metadata": {},
   "outputs": [],
   "source": [
    "df.rename(model=rc[\"rename_mapping\"][\"model\"], inplace=True)"
   ]
  },
  {
   "cell_type": "markdown",
   "metadata": {},
   "source": [
    "## Prepare GDP data \n",
    "\n",
    "Check if GDP|PPP is available, else use GDP|MER"
   ]
  },
  {
   "cell_type": "code",
   "execution_count": null,
   "metadata": {},
   "outputs": [],
   "source": [
    "no_ppp = df.require_variable(\"GDP|PPP\", exclude_on_fail=True)"
   ]
  },
  {
   "cell_type": "code",
   "execution_count": null,
   "metadata": {},
   "outputs": [],
   "source": [
    "df_gdp = df.filter(exclude=False, variable=\"GDP|PPP\")\n",
    "df_gdp.append(df.filter(exclude=True, variable=\"GDP|MER\"), inplace=True)"
   ]
  },
  {
   "cell_type": "markdown",
   "metadata": {},
   "source": [
    "## GDP development in a no-policy scenario\n",
    "\n",
    "This figure is included as Figure 1.1-11 in the Supplementary Information."
   ]
  },
  {
   "cell_type": "code",
   "execution_count": null,
   "metadata": {
    "scrolled": true
   },
   "outputs": [],
   "source": [
    "fig, ax = plt.subplots()\n",
    "\n",
    "df_gdp.filter(scenario=\"EN_NPi2100\").plot(\n",
    "    ax=ax,\n",
    "    color=\"model\",\n",
    "    linestyle=\"variable\",\n",
    ")\n",
    "\n",
    "#ax.set_title(\"GDP development in the NPi scenario\\n(without a carbon budget)\")\n",
    "ax.set_title(None)\n",
    "ax.set_xlabel(None)\n",
    "\n",
    "color_cat = rc[\"color\"][\"model\"].copy()\n",
    "ax.set_ylim(50, 950)\n",
    "\n",
    "fig.savefig(output_folder / f\"fig2_annex_gdp_baseline.{output_format}\", **plot_args)"
   ]
  },
  {
   "cell_type": "markdown",
   "metadata": {},
   "source": [
    "## Panel a - Relative GDP development in mitigation scenarios\n",
    "\n",
    "Development of GDP in mitigation scenarios with limited overshoot and no net-negative CO2 emissions (NNCE) relative to scenarios with overshoot and NNCE in the second half of the century. In the near term, the GDP of net-zero budget scenarios is relatively lower but this is compensated in the second half of the century where GDP in net-zero budget scenarios grows bigger."
   ]
  },
  {
   "cell_type": "code",
   "execution_count": null,
   "metadata": {},
   "outputs": [],
   "source": [
    "df_mitigation = df_gdp.filter(scenario=\"EN_NoPolicy\", keep=False)"
   ]
  },
  {
   "cell_type": "code",
   "execution_count": null,
   "metadata": {},
   "outputs": [],
   "source": [
    "df_peak = df_mitigation.filter(scenario_family=\"NPi\", budget_type=\"peak_budget\")\n",
    "peak = df_peak._data"
   ]
  },
  {
   "cell_type": "code",
   "execution_count": null,
   "metadata": {},
   "outputs": [],
   "source": [
    "full_century = df_mitigation.filter(budget_type=\"full_century_budget\")._data"
   ]
  },
  {
   "cell_type": "code",
   "execution_count": null,
   "metadata": {},
   "outputs": [],
   "source": [
    "scenario_mapping = dict([(f\"{s}f\", s) for s in df_peak.scenario])\n",
    "full_century.index = pyam.index.replace_index_values(full_century, \"scenario\", scenario_mapping)\n",
    "\n",
    "# downselect to scenarios that have both a peak-budget and a full-century budget version\n",
    "full_century = full_century.loc[peak.index]"
   ]
  },
  {
   "cell_type": "code",
   "execution_count": null,
   "metadata": {},
   "outputs": [],
   "source": [
    "df_relative = (\n",
    "    pyam.IamDataFrame((peak / full_century - 1) * 100, meta=df.meta)\n",
    "    .rename(unit={\"trillion US$2010/yr\": \"% change relative to corresponding\\nend-of-century budget scenario\"})\n",
    ")"
   ]
  },
  {
   "cell_type": "code",
   "execution_count": null,
   "metadata": {},
   "outputs": [],
   "source": [
    "fig, ax = plt.subplots(figsize=(6, 4))\n",
    "\n",
    "color_cat = [\"2C\", \"1.5C (with low overshoot)\"]\n",
    "_df = df_relative.filter(scenario_family=\"NPi\", category=color_cat)\n",
    "\n",
    "_df.plot(ax=ax, color=\"category\", fill_between=True, final_ranges=True)\n",
    "\n",
    "ax.set_title(None)\n",
    "ax.set_xlabel(None)\n",
    "ax.set_xlim(2015, 2105)\n",
    "\n",
    "ax.legend([\n",
    "    mpl.lines.Line2D([0, 1], [0, 1], color=rc[\"color\"][\"category\"][c]) for c in reversed(list(color_cat))\n",
    "], reversed([\"2°C\", \"1.5°C (with low overshoot)\"]), loc=4)\n",
    "\n",
    "pyam.plotting.set_panel_label(f\"n = {len(_df.index)}\", ax=ax, x=0.85, y=0.5)\n",
    "\n",
    "plt.tight_layout()\n",
    "fig.savefig(output_folder / f\"fig2a_relative_gdg.{output_format}\", **plot_args)"
   ]
  },
  {
   "cell_type": "markdown",
   "metadata": {},
   "source": [
    "## Panel b - Development of GDP in immediate-action scenarios \n",
    "\n",
    "Development of GDP in immediate-action scenarios relative to scenarios with an equivalent carbon budget which follow NDC pathways until 2030.\n",
    "In the near term, the GDP of NDC scenarios is higher because mitigation action is delayed but this is compensated by 2040 when GDP in the NDC scenario falls below the immediate-action scenarios (and never catches up)."
   ]
  },
  {
   "cell_type": "code",
   "execution_count": null,
   "metadata": {},
   "outputs": [],
   "source": [
    "df_npi = df_mitigation.filter(scenario_family=\"NPi\")\n",
    "npi = df_npi._data"
   ]
  },
  {
   "cell_type": "code",
   "execution_count": null,
   "metadata": {},
   "outputs": [],
   "source": [
    "ndc = df_mitigation.filter(scenario_family=\"INDCi\")._data"
   ]
  },
  {
   "cell_type": "code",
   "execution_count": null,
   "metadata": {},
   "outputs": [],
   "source": [
    "ndc_scenario_mapping = dict([(s.replace(\"NPi2020\", \"INDCi2030\"), s) for s in df_npi.scenario])\n",
    "ndc.index = pyam.index.replace_index_values(ndc, \"scenario\", ndc_scenario_mapping)"
   ]
  },
  {
   "cell_type": "code",
   "execution_count": null,
   "metadata": {},
   "outputs": [],
   "source": [
    "df_relative = (\n",
    "    pyam.IamDataFrame((ndc / npi - 1) * 100, meta=df.meta)\n",
    "    .rename(unit={\"trillion US$2010/yr\": \"% change of NDC scenario relative to\\ncorresponding immediate-action scenario\"})\n",
    ")"
   ]
  },
  {
   "cell_type": "markdown",
   "metadata": {},
   "source": [
    "The pyam-plotting `fill_between` requires setting the colors via the RunControl.\n",
    "\n",
    "The following cell sets the color for Panel b, overriding the default configuration for this project."
   ]
  },
  {
   "cell_type": "code",
   "execution_count": null,
   "metadata": {},
   "outputs": [],
   "source": [
    "rc_blue_2c = rc[\"color\"][\"category\"][\"2C\"]\n",
    "rc[\"color\"][\"category\"][\"2C\"] = \"xkcd:darkish green\""
   ]
  },
  {
   "cell_type": "code",
   "execution_count": null,
   "metadata": {
    "scrolled": true
   },
   "outputs": [],
   "source": [
    "fig, ax = plt.subplots(figsize=(6, 4))\n",
    "\n",
    "_df = df_relative.filter(category=[\"2C\"])\n",
    "_df.plot(ax=ax, color=\"category\", fill_between=True, legend=False)\n",
    "\n",
    "ax.set_title(None)\n",
    "ax.set_xlabel(None)\n",
    "ax.set_xlim(2015, 2105)\n",
    "\n",
    "pyam.plotting.set_panel_label(f\"n = {len(_df.index)}\", ax=ax, x=0.85, y=0.1)\n",
    "\n",
    "plt.tight_layout()\n",
    "fig.savefig(output_folder / f\"fig2b_relative_gdp_ndc.{output_format}\", **plot_args)"
   ]
  },
  {
   "cell_type": "markdown",
   "metadata": {},
   "source": [
    "Reset the color the run control to the defaults for Panel c."
   ]
  },
  {
   "cell_type": "code",
   "execution_count": null,
   "metadata": {},
   "outputs": [],
   "source": [
    "rc[\"color\"][\"category\"][\"2C\"] = rc_blue_2c"
   ]
  },
  {
   "cell_type": "markdown",
   "metadata": {},
   "source": [
    "## Panel c - Ratio of cumulative GDP loss assuming different discount rates\n",
    "\n",
    "The ratio of cumulative GDP loss (NPV, 2020–2100) assuming different discount rates (0–5%).\n",
    "The discount rates are applied exogenously to the GDP pathway of each scenario.\n",
    "The perceived overall costs of each scenario (cumulative GDP loss from mitigation policy) differ for each discount rate reflecting the different weights of costs over time.\n",
    "\n",
    "The figure shows the NPV price ratio between net-zero budget scenarios with limited overshoot and their corresponding end-of-century carbon budget scenarios (ratio <100 means that scenarios with limited overshoot are perceived to be overall less costly under the specific assumptions).\n",
    "Each dot represents the ratio for a pair of scenarios with a specific carbon budget (x axis). "
   ]
  },
  {
   "cell_type": "code",
   "execution_count": null,
   "metadata": {},
   "outputs": [],
   "source": [
    "npi = df_gdp.filter(scenario=\"EN_NPi2100\")._data.copy()\n",
    "npi.index = npi.index.droplevel([\"scenario\", \"variable\"])"
   ]
  },
  {
   "cell_type": "code",
   "execution_count": null,
   "metadata": {},
   "outputs": [],
   "source": [
    "mitigation = df_gdp.filter(scenario=[\"EN_NoPolicy\", \"EN_NPi2100\"], keep=False)._data.copy()\n",
    "mitigation.index = mitigation.index.droplevel(\"variable\")"
   ]
  },
  {
   "cell_type": "code",
   "execution_count": null,
   "metadata": {},
   "outputs": [],
   "source": [
    "df_gdp_loss = pyam.IamDataFrame(npi - mitigation, variable=\"GDP loss\", meta=df.meta)\n",
    "gdp_loss = df_gdp_loss.timeseries()"
   ]
  },
  {
   "cell_type": "code",
   "execution_count": null,
   "metadata": {},
   "outputs": [],
   "source": [
    "baseyear = 2020\n",
    "discount_rates = range(0, 6)"
   ]
  },
  {
   "cell_type": "code",
   "execution_count": null,
   "metadata": {},
   "outputs": [],
   "source": [
    "for r in discount_rates:\n",
    "    gdp_loss_npv = gdp_loss.copy()\n",
    "    for y in gdp_loss_npv.columns: \n",
    "        gdp_loss_npv[y] = gdp_loss_npv[y] / math.pow(1 + r / 100, y - baseyear)\n",
    "    \n",
    "    label = f\"Cumulative GDP loss (NPV {r}%)\"\n",
    "    df_gdp_loss.set_meta(\n",
    "        meta=gdp_loss_npv.apply(pyam.cumulative, axis=1, first_year=2020, last_year=2100),\n",
    "        name=label\n",
    "    )\n",
    "    \n",
    "    gdp_loss_npv_full_century = (\n",
    "        df_gdp_loss.filter(budget_type=\"full_century_budget\")\n",
    "        .meta[label]\n",
    "    )\n",
    "    gdp_loss_npv_full_century.index = (\n",
    "        pyam.index.replace_index_values(\n",
    "            gdp_loss_npv_full_century, \"scenario\", scenario_mapping)\n",
    "    )\n",
    "    gdp_loss_npv_peak_budget = (\n",
    "        df_gdp_loss.filter(budget_type=\"peak_budget\")\n",
    "        .meta[label]\n",
    "    )\n",
    "    \n",
    "    rel_gdp_loss_npv =  gdp_loss_npv_peak_budget / gdp_loss_npv_full_century * 100\n",
    "    rel_gdp_loss_npv = rel_gdp_loss_npv[rel_gdp_loss_npv > 1]\n",
    "    df_gdp_loss.set_meta(\n",
    "        meta=rel_gdp_loss_npv,\n",
    "        name=f\"Relative GDP loss (NPV {r}%)\"\n",
    "    )"
   ]
  },
  {
   "cell_type": "code",
   "execution_count": null,
   "metadata": {},
   "outputs": [],
   "source": [
    "fig, ax = plt.subplots(1, len(discount_rates), figsize=(12, 4), sharex=True, sharey=True)\n",
    "\n",
    "for i, r in enumerate(discount_rates):\n",
    "    df_gdp_loss.filter(budget_type=\"peak_budget\", scenario_family=\"NPi\")\\\n",
    "    .plot.scatter(ax=ax[i], x=\"cumulative_emissions_2100\", y=f\"Relative GDP loss (NPV {r}%)\",\n",
    "                  color=\"category\", legend=False)\n",
    "    \n",
    "    ax[i].set_xlabel(None)\n",
    "    ax[i].set_ylabel(None)\n",
    "    ax[i].set_ylim(45, 305)\n",
    "    ax[i].axhline(y=100, color=\"black\")\n",
    "    pyam.plotting.set_panel_label(f\"{r}%\", ax=ax[i], x=0.80)\n",
    "\n",
    "pyam.plotting.set_panel_label(f\"n = {len(_df.index)}\", ax=ax[5], x=0.5, y=0.05)\n",
    "    \n",
    "ax[2].set_xlabel(\"Cumulative net-negative CO2 emissions (GtCO2)\")\n",
    "ax[0].set_ylabel(\"Ratio of cumulative GDP loss\")\n",
    "\n",
    "plt.tight_layout()\n",
    "fig.savefig(output_folder / f\"fig2c_relative_gdp_loss_npv.{output_format}\", **plot_args)"
   ]
  },
  {
   "cell_type": "markdown",
   "metadata": {},
   "source": [
    "## Ratio of net-present value carbon prices assuming different discount rates\n",
    "\n",
    "The following figure is a variation of Panel c using carbon prices instead of GDP loss.\n",
    "\n",
    "It is included as Figure 1.1-12 in the Supplementary Information."
   ]
  },
  {
   "cell_type": "code",
   "execution_count": null,
   "metadata": {},
   "outputs": [],
   "source": [
    "horizon = range(2020, 2101, 5)\n",
    "\n",
    "df_price = (\n",
    "    df.filter(scenario_family=\"NPi\", variable=\"Price|Carbon\")\n",
    "    .filter(scenario=\"EN_NoPolicy\", keep=False)\n",
    "    .filter(year=horizon)\n",
    "    .interpolate(horizon, inplace=False)\n",
    ")\n",
    "carbon_price = df_price.timeseries()"
   ]
  },
  {
   "cell_type": "code",
   "execution_count": null,
   "metadata": {},
   "outputs": [],
   "source": [
    "baseyear = 2020\n",
    "discount_rates = range(0, 6)"
   ]
  },
  {
   "cell_type": "code",
   "execution_count": null,
   "metadata": {},
   "outputs": [],
   "source": [
    "for r in discount_rates:\n",
    "    carbon_price_npv = carbon_price.copy()\n",
    "    for y in carbon_price.columns: \n",
    "        carbon_price_npv[y] = carbon_price_npv[y] / math.pow(1 + r / 100, y - baseyear)\n",
    "    \n",
    "    label = f\"Mean Carbon Price (NPV {r}%)\"\n",
    "    df_price.set_meta(meta=carbon_price_npv.apply(np.mean, axis=1), name=label)\n",
    "    \n",
    "    price_npv_full_century = (\n",
    "        df_price.filter(budget_type=\"full_century_budget\")\n",
    "        .meta[label]\n",
    "    )\n",
    "    price_npv_full_century.index = (\n",
    "        pyam.index.replace_index_values(\n",
    "            price_npv_full_century, \"scenario\", scenario_mapping\n",
    "        )\n",
    "    )\n",
    "    price_npv_peak_budget = (\n",
    "        df_price.filter(budget_type=\"peak_budget\")\n",
    "        .meta[label]\n",
    "    )\n",
    "    \n",
    "    rel_npv =  price_npv_peak_budget / price_npv_full_century * 100\n",
    "    df_price.set_meta(meta=rel_npv.dropna(), name=f\"Relative Carbon Price (NPV {r}%)\")"
   ]
  },
  {
   "cell_type": "code",
   "execution_count": null,
   "metadata": {},
   "outputs": [],
   "source": [
    "fig, ax = plt.subplots(1, len(discount_rates), figsize=(12, 4), sharex=True, sharey=True)\n",
    "\n",
    "_df = df_price.filter(budget_type=\"peak_budget\")\n",
    "\n",
    "for i, r in enumerate(discount_rates):\n",
    "\n",
    "    _df.plot.scatter(ax=ax[i], x=\"cumulative_emissions_2100\", y=f\"Relative Carbon Price (NPV {r}%)\",\n",
    "                  color=\"category\", legend=False)\n",
    "\n",
    "    ax[i].set_xlabel(None)\n",
    "    ax[i].set_ylabel(None)\n",
    "    ax[i].set_ylim(35, 195)\n",
    "    ax[i].axhline(y=100, color=\"black\")\n",
    "    pyam.plotting.set_panel_label(f\"{r}%\", ax=ax[i], x=0.80)\n",
    "\n",
    "pyam.plotting.set_panel_label(f\"n = {len(_df.index)}\", ax=ax[5], x=0.5, y=0.1)\n",
    "\n",
    "ax[2].set_xlabel(\"Cumulative net-negative CO2 emissions (GtCO2)\")\n",
    "ax[0].set_ylabel(\"Ratio of mean NPV carbon price\")\n",
    "\n",
    "plt.tight_layout()\n",
    "fig.savefig(output_folder / f\"fig2_annex_relative_carbon_price_npv.{output_format}\", **plot_args)"
   ]
  },
  {
   "cell_type": "code",
   "execution_count": null,
   "metadata": {},
   "outputs": [],
   "source": []
  }
 ],
 "metadata": {
  "kernelspec": {
   "display_name": "Python 3 (ipykernel)",
   "language": "python",
   "name": "python3"
  },
  "language_info": {
   "codemirror_mode": {
    "name": "ipython",
    "version": 3
   },
   "file_extension": ".py",
   "mimetype": "text/x-python",
   "name": "python",
   "nbconvert_exporter": "python",
   "pygments_lexer": "ipython3",
   "version": "3.9.7"
  }
 },
 "nbformat": 4,
 "nbformat_minor": 4
}
