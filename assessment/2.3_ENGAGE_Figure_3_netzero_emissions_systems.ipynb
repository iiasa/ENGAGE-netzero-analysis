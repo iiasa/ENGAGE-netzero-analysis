{
 "cells": [
  {
   "cell_type": "markdown",
   "metadata": {},
   "source": [
    "<img style=\"float: right; height: 80px;\" src=\"../_static/ENGAGE.png\">\n",
    "\n",
    "# 2.3. Figure 3 - Net-zero CO2 emissions systems\n",
    "\n",
    "<a href=\"https://github.com/iiasa/ENGAGE-netzero-analysis/blob/main/LICENSE\">\n",
    "<img style=\"float: left; height: 30px; padding: 5px; margin-top: 8px; \" src=\"https://img.shields.io/github/license/iiasa/ENGAGE-netzero-analysis\">\n",
    "</a>\n",
    "\n",
    "Licensed under the [MIT License](https://github.com/iiasa/ENGAGE-netzero-analysis/blob/main/LICENSE).\n",
    "\n",
    "This notebook is part of a repository to generate figures and analysis for the manuscript\n",
    "\n",
    "> Keywan Riahi, Christoph Bertram, Daniel Huppmann, et al. <br />\n",
    "> Cost and attainability of meeting stringent climate targets without overshoot <br />\n",
    "> **Nature Climate Change**, 2021 <br />\n",
    "> doi: [10.1038/s41558-021-01215-2](https://doi.org/10.1038/s41558-021-01215-2)\n",
    "\n",
    "The scenario data used in this analysis should be cited as\n",
    "\n",
    "> ENGAGE Global Scenarios (Version 2.0) <br />\n",
    "> doi: [10.5281/zenodo.5553976](https://doi.org/10.5281/zenodo.5553976)\n",
    "\n",
    "The data can be accessed and downloaded via the **ENGAGE Scenario Explorer** at [https://data.ece.iiasa.ac.at/engage](https://data.ece.iiasa.ac.at/engage).<br />\n",
    "*Please refer to the [license](https://data.ece.iiasa.ac.at/engage/#/license)\n",
    "of the scenario ensemble before redistributing this data or adapted material.*\n",
    "\n",
    "The source code of this notebook is available on GitHub\n",
    "at [https://github.com/iiasa/ENGAGE-netzero-analysis](https://github.com/iiasa/ENGAGE-netzero-analysis).<br />\n",
    "A rendered version can be seen at [https://data.ece.iiasa.ac.at/engage-netzero-analysis](https://data.ece.iiasa.ac.at/engage-netzero-analysis)."
   ]
  },
  {
   "cell_type": "code",
   "execution_count": null,
   "metadata": {},
   "outputs": [],
   "source": [
    "from pathlib import Path\n",
    "import numpy as np\n",
    "import pandas as pd\n",
    "import matplotlib.pyplot as plt\n",
    "import seaborn as sns\n",
    "\n",
    "import pyam\n",
    "\n",
    "from utils import get_netzero_data"
   ]
  },
  {
   "cell_type": "markdown",
   "metadata": {},
   "source": [
    "## Import the scenario snapshot used for this analysis and the plotting configuration"
   ]
  },
  {
   "cell_type": "code",
   "execution_count": null,
   "metadata": {},
   "outputs": [],
   "source": [
    "data_folder = Path(\"../data/\")\n",
    "\n",
    "output_folder = Path(\"output\")\n",
    "output_format = \"png\"\n",
    "plot_args = dict(facecolor=\"white\", dpi=300)"
   ]
  },
  {
   "cell_type": "code",
   "execution_count": null,
   "metadata": {},
   "outputs": [],
   "source": [
    "rc = pyam.run_control()\n",
    "rc.update(\"plotting_config.yaml\")"
   ]
  },
  {
   "cell_type": "code",
   "execution_count": null,
   "metadata": {},
   "outputs": [],
   "source": [
    "df = pyam.IamDataFrame(data_folder / \"ENGAGE_fig3.xlsx\")"
   ]
  },
  {
   "cell_type": "markdown",
   "metadata": {},
   "source": [
    "Panels a, b, d and e in this figure use the same scenario."
   ]
  },
  {
   "cell_type": "code",
   "execution_count": null,
   "metadata": {},
   "outputs": [],
   "source": [
    "scenario = \"EN_NPi2020_1000\""
   ]
  },
  {
   "cell_type": "markdown",
   "metadata": {},
   "source": [
    "Apply renaming for nicer plots."
   ]
  },
  {
   "cell_type": "code",
   "execution_count": null,
   "metadata": {},
   "outputs": [],
   "source": [
    "df.rename(model=rc[\"rename_mapping\"][\"model\"], inplace=True)\n",
    "df.rename(region=rc[\"rename_mapping\"][\"region\"], inplace=True)"
   ]
  },
  {
   "cell_type": "code",
   "execution_count": null,
   "metadata": {},
   "outputs": [],
   "source": [
    "model_format_mapping = {\n",
    "    \"MESSAGEix-GLOBIOM\": \"MESSAGEix-\\nGLOBIOM\",\n",
    "}\n",
    "\n",
    "def format_model_name(i, model_format_mapping):\n",
    "    name = i.get_text()\n",
    "    for key, value in model_format_mapping.items():\n",
    "        name = name.replace(key, value)\n",
    "\n",
    "    return name"
   ]
  },
  {
   "cell_type": "markdown",
   "metadata": {},
   "source": [
    "## Prepare CO2 emissions data\n",
    "\n",
    "Aggregate two categories of \"Other\" emissions to show as one category."
   ]
  },
  {
   "cell_type": "code",
   "execution_count": null,
   "metadata": {},
   "outputs": [],
   "source": [
    "components = [f\"Emissions|CO2|{i}\" for i in [\"Other\", \"Energy|Demand|Other\"]]\n",
    "df_other = df.aggregate(variable=\"Emissions|CO2|Other\", components=components)\n",
    "df = df.filter(variable=components, keep=False).append(df_other)"
   ]
  },
  {
   "cell_type": "code",
   "execution_count": null,
   "metadata": {},
   "outputs": [],
   "source": [
    "sectors_mapping = {\n",
    "    \"AFOLU\": \"AFOLU\",\n",
    "    \"Energy|Demand\": \"Energy Demand\",\n",
    "    \"Energy|Demand|Industry\": \"Industry\",\n",
    "    \"Energy|Demand|Transportation\": \"Transportation\",\n",
    "    \"Energy|Demand|Residential and Commercial\": \"Buildings\",\n",
    "    \"Energy|Supply\": \"Energy Supply\",\n",
    "    \"Industrial Processes\": \"Industrial Processes\",\n",
    "    \"Other\": \"Other\"\n",
    "}\n",
    "\n",
    "# explode short dictionary-keys to full variable string\n",
    "for key in list(sectors_mapping):\n",
    "    sectors_mapping[f\"Emissions|CO2|{key}\"] = sectors_mapping.pop(key)\n",
    "\n",
    "df.rename(variable=sectors_mapping, inplace=True)\n",
    "sectors = list(sectors_mapping.values())"
   ]
  },
  {
   "cell_type": "markdown",
   "metadata": {},
   "source": [
    "The REMIND model does not reach net-zero CO2 emissions before the end of the century in the selected scenario\n",
    "used in Panels a, b, d and e.\n",
    "\n",
    "It is therefore excluded from this notebook."
   ]
  },
  {
   "cell_type": "code",
   "execution_count": null,
   "metadata": {},
   "outputs": [],
   "source": [
    "df_sector = (\n",
    "    df.filter(region=\"World\", scenario=scenario, variable=sectors)\n",
    "    .filter(variable=\"Energy Demand\", keep=False)  # show disaggregation of demand sectors\n",
    "    .filter(model=\"REMIND*\", keep=False)\n",
    "    .convert_unit(\"Mt CO2/yr\", \"Gt CO2/yr\")\n",
    ")"
   ]
  },
  {
   "cell_type": "markdown",
   "metadata": {},
   "source": [
    "## Panel a - Development of emissions by sector in one illustrative model"
   ]
  },
  {
   "cell_type": "code",
   "execution_count": null,
   "metadata": {},
   "outputs": [],
   "source": [
    "model=\"MESSAGEix-GLOBIOM\""
   ]
  },
  {
   "cell_type": "code",
   "execution_count": null,
   "metadata": {
    "scrolled": true
   },
   "outputs": [],
   "source": [
    "fig, ax = plt.subplots(figsize=(6, 4))\n",
    "\n",
    "(\n",
    "    df_sector.filter(model=model)\n",
    "    .plot.stack(ax=ax, title=None, total=dict(lw=3, color=\"black\"))\n",
    ")\n",
    "\n",
    "ax.set_xlabel(None)\n",
    "plt.legend(loc=1)\n",
    "\n",
    "plt.tight_layout()\n",
    "fig.savefig(output_folder / f\"fig3a_sectoral.{output_format}\", **plot_args)"
   ]
  },
  {
   "cell_type": "markdown",
   "metadata": {},
   "source": [
    "## Panel b - Emissions by sector in the year of net-zero\n",
    "\n",
    "The function `get_netzero_data` is defined in the file `utils.py` in this folder."
   ]
  },
  {
   "cell_type": "code",
   "execution_count": null,
   "metadata": {},
   "outputs": [],
   "source": [
    "df_netzero_sector = get_netzero_data(df_sector, \"netzero|CO2\", default_year=2100)"
   ]
  },
  {
   "cell_type": "code",
   "execution_count": null,
   "metadata": {},
   "outputs": [],
   "source": [
    "fig, ax = plt.subplots(figsize=(5, 4))\n",
    "\n",
    "df_netzero_sector.plot.bar(ax=ax, x=\"model\", title=None, stacked=True, legend=False)\n",
    "ax.axhline(0, color=\"black\", linewidth=0.5)\n",
    "\n",
    "plt.xlabel(None)\n",
    "ax.set_xticklabels([format_model_name(i, model_format_mapping) for i in ax.get_xticklabels()])\n",
    "\n",
    "plt.xticks(rotation=45)\n",
    "ax.set_ylim(-13, 13)\n",
    "\n",
    "plt.tight_layout()\n",
    "fig.savefig(output_folder / f\"fig3b_sectoral_year_netzero.{output_format}\", **plot_args)"
   ]
  },
  {
   "cell_type": "markdown",
   "metadata": {},
   "source": [
    "## Panel c - Timing of net-zero CO2 emissions for different sectors\n",
    "\n",
    "The timing of net-zero for different sectors relative to the timing of net-zero global total CO2 (blue line at zero). The histograms include all pathways that limit temperature to <2 °C."
   ]
  },
  {
   "cell_type": "code",
   "execution_count": null,
   "metadata": {},
   "outputs": [],
   "source": [
    "budget_groups = [600, 900, 1200]\n",
    "\n",
    "def budget_classification(x):\n",
    "    for b in budget_groups:\n",
    "        if x < b:\n",
    "            return f\"below {b} Gt\"\n",
    "    return np.nan\n",
    "\n",
    "df.set_meta(meta=df.meta[\"cumulative_emissions_2100\"].apply(budget_classification),\n",
    "            name=\"budget_range\")"
   ]
  },
  {
   "cell_type": "code",
   "execution_count": null,
   "metadata": {},
   "outputs": [],
   "source": [
    "def _cross_threshold(x):\n",
    "    y = pyam.cross_threshold(x, threshold=10)  # the unit is Mt CO2\n",
    "    return y[0] if len(y) else np.inf\n",
    "\n",
    "def calculate_netzero(_df):\n",
    "    cross = _df.apply(_cross_threshold, raw=False, axis=1)\n",
    "    cross.index = cross.index.droplevel([\"region\", \"variable\", \"unit\"])\n",
    "    return cross"
   ]
  },
  {
   "cell_type": "code",
   "execution_count": null,
   "metadata": {},
   "outputs": [],
   "source": [
    "cols = [\"category\", \"category_peak\", \"budget_type\", \"budget_range\", \"scenario_family\", \"cumulative_emissions_2100\"]\n",
    "\n",
    "df_sector_nz = df.filter(region=\"World\", variable=sectors, category_peak=[\"1.5C (with low overshoot)\", \"2C\"])\n",
    "\n",
    "netzero_sector = df_sector_nz.meta[cols]"
   ]
  },
  {
   "cell_type": "code",
   "execution_count": null,
   "metadata": {},
   "outputs": [],
   "source": [
    "for v in sectors:\n",
    "    _co2 = df_sector_nz.filter(variable=v).timeseries()\n",
    "    netzero_sector[v] = calculate_netzero(_co2) - df_sector_nz.meta[\"netzero|CO2\"]\n",
    "\n",
    "x = netzero_sector.set_index(cols, append=True).stack().reset_index().rename(columns={0: \"value\", \"level_8\": \"sector\"})"
   ]
  },
  {
   "cell_type": "code",
   "execution_count": null,
   "metadata": {},
   "outputs": [],
   "source": [
    "netzero_bins = [-40, -30, -20, -10, 0, 10, 20, 30, 40, \">2100\"]\n",
    "\n",
    "def assign_nz_bin(x):\n",
    "    for b in netzero_bins:\n",
    "        try:\n",
    "            if x < b:\n",
    "                return b\n",
    "        # this approach works as long as only the last item is a string\n",
    "        except TypeError:\n",
    "            return b"
   ]
  },
  {
   "cell_type": "code",
   "execution_count": null,
   "metadata": {},
   "outputs": [],
   "source": [
    "x[\"netzero\"] = x.value.apply(assign_nz_bin)"
   ]
  },
  {
   "cell_type": "code",
   "execution_count": null,
   "metadata": {},
   "outputs": [],
   "source": [
    "is_inf = [np.isinf(v) for v in x.value]\n",
    "not_inf = np.logical_not(is_inf)\n",
    "\n",
    "_max = max(x.loc[not_inf, \"value\"])\n",
    "\n",
    "x[\"value_\"] = x.value\n",
    "x.loc[is_inf, \"value_\"] = _max + 10"
   ]
  },
  {
   "cell_type": "markdown",
   "metadata": {},
   "source": [
    "The **pyam** package does not support histogram-type plots, so panel d is implemented directly in **seaborn**."
   ]
  },
  {
   "cell_type": "code",
   "execution_count": null,
   "metadata": {},
   "outputs": [],
   "source": [
    "sector_list = [\"AFOLU\", \"Energy Supply\", \"Industrial Processes\", \"Energy Demand\"]\n",
    "\n",
    "n = len(sector_list)\n",
    "\n",
    "fig, ax = plt.subplots(n, 1, figsize=(6, 4), sharex=True, sharey=True)\n",
    "\n",
    "_x = x[[i in [\"1.5C (with low overshoot)\", \"2C\"] for i in x.category_peak]]\n",
    "_x = _x[_x.scenario_family == \"NPi\"]\n",
    "\n",
    "for i, s in enumerate(sector_list):\n",
    "    sns.countplot(ax=ax[i], data=_x[_x.sector == s], x=\"netzero\", order=netzero_bins,\n",
    "                  color=rc[\"color\"][\"variable\"][s])\n",
    "    ax[i].set_xlabel(None)\n",
    "    ax[i].set_ylabel(s, rotation=0, horizontalalignment=\"right\")\n",
    "    ax[i].axvline(x=4)\n",
    "    \n",
    "ax[3].set_ylabel(\"Energy Demand (Buildings,\\nTransportation, Industry)\",\n",
    "                 rotation=0, horizontalalignment=\"right\")\n",
    "ax[3].set_xlabel(\"Difference in timing (years) of net-zero by sector\\nrelative to timing of global net-zero CO2\",)\n",
    "\n",
    "pyam.plotting.set_panel_label(f\"n = {len(_x[_x.sector == s])}\", ax=ax[0], x=0.82, y=0.7)\n",
    "\n",
    "plt.tight_layout()\n",
    "fig.savefig(output_folder / f\"fig3c_sectoral_range_netzero.{output_format}\", **plot_args)"
   ]
  },
  {
   "cell_type": "markdown",
   "metadata": {},
   "source": [
    "## Panel d - Development of emissions by region in one illustrative model"
   ]
  },
  {
   "cell_type": "code",
   "execution_count": null,
   "metadata": {},
   "outputs": [],
   "source": [
    "df_regional = (\n",
    "    df.filter(region=\"World\", keep=False)\n",
    "    .filter(scenario=scenario, variable=\"Emissions|CO2\")\n",
    "    .filter(model=\"REMIND*\", keep=False)\n",
    "    .convert_unit(\"Mt CO2/yr\", \"Gt CO2/yr\")\n",
    ")"
   ]
  },
  {
   "cell_type": "code",
   "execution_count": null,
   "metadata": {},
   "outputs": [],
   "source": [
    "fig, ax = plt.subplots(figsize=(6, 4))\n",
    "\n",
    "(\n",
    "    pyam.IamDataFrame(\n",
    "        df_regional.filter(model=model)\n",
    "        .timeseries()\n",
    "        .fillna(0)\n",
    "     ).plot.stack(ax=ax, stack=\"region\", title=None, alpha=0.8, total=dict(lw=3))\n",
    ")\n",
    "\n",
    "plt.legend(loc=1)\n",
    "ax.set_xlabel(None)\n",
    "\n",
    "plt.tight_layout()\n",
    "fig.savefig(output_folder / f\"fig3d_regional.{output_format}\", **plot_args)"
   ]
  },
  {
   "cell_type": "markdown",
   "metadata": {},
   "source": [
    "## Panel e - Emissions by region in the year of net-zero\n",
    "\n",
    "The function `get_netzero_data` is defined in the file `utils.py` in this folder."
   ]
  },
  {
   "cell_type": "code",
   "execution_count": null,
   "metadata": {},
   "outputs": [],
   "source": [
    "df_netzero_regional = get_netzero_data(df_regional, \"netzero|CO2\", default_year=2100)"
   ]
  },
  {
   "cell_type": "code",
   "execution_count": null,
   "metadata": {},
   "outputs": [],
   "source": [
    "fig, ax = plt.subplots(figsize=(5, 4))\n",
    "\n",
    "df_netzero_regional.plot.bar(ax=ax, x=\"model\", bars=\"region\", stacked=True, alpha=0.8, title=None, legend=False)\n",
    "\n",
    "ax.axhline(0, color=\"black\", linewidth=0.5)\n",
    "ax.set_ylim(-6, 6)\n",
    "ax.set_xticklabels([format_model_name(i, model_format_mapping) for i in ax.get_xticklabels()])\n",
    "plt.xlabel(None)\n",
    "\n",
    "plt.xticks(rotation=45)\n",
    "\n",
    "plt.tight_layout()\n",
    "fig.savefig(output_folder / f\"fig3e_regional_year_netzero.{output_format}\", **plot_args)"
   ]
  },
  {
   "cell_type": "markdown",
   "metadata": {},
   "source": [
    "## Panel f - Timing of net-zero CO2 emissions for different regions\n",
    "\n",
    "The timing of net-zero for different regions relative to the timing of net-zero global total CO2 (blue line at zero). The histograms include all pathways that limit temperature to <2 °C."
   ]
  },
  {
   "cell_type": "code",
   "execution_count": null,
   "metadata": {},
   "outputs": [],
   "source": [
    "cols = [\"category\", \"budget_type\", \"budget_range\", \"scenario_family\", \"cumulative_emissions_2100\"]\n",
    "\n",
    "df_region_nz = (\n",
    "    df.filter(region=\"World\", keep=False).filter(variable=\"Emissions|CO2\")\n",
    ")\n",
    "\n",
    "netzero_region = df_region_nz.meta[cols].copy()"
   ]
  },
  {
   "cell_type": "code",
   "execution_count": null,
   "metadata": {},
   "outputs": [],
   "source": [
    "for r in df_region_nz.region:\n",
    "    if r == \"Other\":\n",
    "        continue\n",
    "    \n",
    "    _co2 = df_region_nz.filter(region=r).timeseries()\n",
    "    netzero_region[r] = calculate_netzero(_co2) - df_region_nz.meta[\"netzero|CO2\"]\n",
    "\n",
    "x = netzero_region.set_index(cols, append=True).stack().reset_index().rename(columns={0: \"value\", \"level_7\": \"region\"})"
   ]
  },
  {
   "cell_type": "code",
   "execution_count": null,
   "metadata": {},
   "outputs": [],
   "source": [
    "x[\"netzero\"] = x.value.apply(assign_nz_bin)"
   ]
  },
  {
   "cell_type": "code",
   "execution_count": null,
   "metadata": {},
   "outputs": [],
   "source": [
    "regions = [\"Latin America\", \"Reforming Economies\", \"OECD & EU\", \"Asia\", \"Middle East & Africa\"]\n",
    "\n",
    "n = len(regions)\n",
    "\n",
    "fig, ax = plt.subplots(n, 1, figsize=(6, 4), sharex=True, sharey=True)\n",
    "\n",
    "_x = x[[i in [\"1.5C (with low overshoot)\", \"2C\"] for i in x.category]]\n",
    "_x = _x[_x.scenario_family == \"NPi\"]\n",
    "\n",
    "for i, r in enumerate(regions):\n",
    "    sns.countplot(ax=ax[i], data=_x[_x.region == r], x=\"netzero\", order=netzero_bins,\n",
    "                  color=rc[\"color\"][\"region\"][r])\n",
    "    ax[i].set_xlabel(None)\n",
    "    ax[i].set_ylabel(r, rotation=0, horizontalalignment=\"right\")\n",
    "    plt.tight_layout()\n",
    "\n",
    "pyam.plotting.set_panel_label(f\"n = {len(_x[_x.region == r])}\", ax=ax[0], x=0.82, y=0.55)\n",
    "\n",
    "ax[4].set_ylim(0, 60)\n",
    "ax[4].set_xlabel(\"Difference in timing (years) of net-zero by region\\nrelative to timing of global net-zero CO2\")\n",
    "\n",
    "plt.tight_layout()\n",
    "fig.savefig(output_folder / f\"fig3f_regional_range_netzero.{output_format}\", **plot_args)"
   ]
  },
  {
   "cell_type": "code",
   "execution_count": null,
   "metadata": {},
   "outputs": [],
   "source": []
  }
 ],
 "metadata": {
  "kernelspec": {
   "display_name": "Python 3 (ipykernel)",
   "language": "python",
   "name": "python3"
  },
  "language_info": {
   "codemirror_mode": {
    "name": "ipython",
    "version": 3
   },
   "file_extension": ".py",
   "mimetype": "text/x-python",
   "name": "python",
   "nbconvert_exporter": "python",
   "pygments_lexer": "ipython3",
   "version": "3.9.7"
  }
 },
 "nbformat": 4,
 "nbformat_minor": 4
}
