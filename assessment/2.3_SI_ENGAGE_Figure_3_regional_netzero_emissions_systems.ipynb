{
 "cells": [
  {
   "cell_type": "markdown",
   "metadata": {},
   "source": [
    "<img style=\"float: right; height: 80px;\" src=\"../_static/ENGAGE.png\">\n",
    "\n",
    "# 2.3. Figure 3-variation - Net-zero CO2 emissions systems\n",
    "\n",
    "<a href=\"https://github.com/iiasa/ENGAGE-netzero-analysis/blob/main/LICENSE\">\n",
    "<img style=\"float: left; height: 30px; padding: 5px; margin-top: 8px; \" src=\"https://img.shields.io/github/license/iiasa/ENGAGE-netzero-analysis\">\n",
    "</a>\n",
    "\n",
    "Licensed under the [MIT License](https://github.com/iiasa/ENGAGE-netzero-analysis/blob/main/LICENSE).\n",
    "\n",
    "This notebook is part of a repository to generate figures and analysis for the manuscript\n",
    "\n",
    "> Keywan Riahi, Christoph Bertram, Daniel Huppmann, et al. <br />\n",
    "> Cost and attainability of meeting stringent climate targets without overshoot <br />\n",
    "> **Nature Climate Change**, 2021 <br />\n",
    "> doi: [10.1038/s41558-021-01215-2](https://doi.org/10.1038/s41558-021-01215-2)\n",
    "\n",
    "The scenario data used in this analysis should be cited as\n",
    "\n",
    "> ENGAGE Global Scenarios (Version 2.0) <br />\n",
    "> doi: [10.5281/zenodo.5553976](https://doi.org/10.5281/zenodo.5553976)\n",
    "\n",
    "The data can be accessed and downloaded via the **ENGAGE Scenario Explorer** at [https://data.ece.iiasa.ac.at/engage](https://data.ece.iiasa.ac.at/engage).<br />\n",
    "*Please refer to the [license](https://data.ece.iiasa.ac.at/engage/#/license)\n",
    "of the scenario ensemble before redistributing this data or adapted material.*\n",
    "\n",
    "The source code of this notebook is available on GitHub\n",
    "at [https://github.com/iiasa/ENGAGE-netzero-analysis](https://github.com/iiasa/ENGAGE-netzero-analysis).<br />\n",
    "A rendered version can be seen at [https://data.ece.iiasa.ac.at/engage-netzero-analysis](https://data.ece.iiasa.ac.at/engage-netzero-analysis)."
   ]
  },
  {
   "cell_type": "code",
   "execution_count": null,
   "metadata": {},
   "outputs": [],
   "source": [
    "from pathlib import Path\n",
    "import numpy as np\n",
    "import pandas as pd\n",
    "import matplotlib.pyplot as plt\n",
    "\n",
    "import pyam\n",
    "\n",
    "from utils import get_netzero_data"
   ]
  },
  {
   "cell_type": "markdown",
   "metadata": {},
   "source": [
    "## Import the scenario snapshot used for this analysis and the plotting configuration"
   ]
  },
  {
   "cell_type": "code",
   "execution_count": null,
   "metadata": {},
   "outputs": [],
   "source": [
    "data_folder = Path(\"../data/\")\n",
    "\n",
    "output_folder = Path(\"output\")\n",
    "output_format = \"png\"\n",
    "plot_args = dict(facecolor=\"white\", dpi=300)"
   ]
  },
  {
   "cell_type": "code",
   "execution_count": null,
   "metadata": {},
   "outputs": [],
   "source": [
    "rc = pyam.run_control()\n",
    "rc.update(\"plotting_config.yaml\")"
   ]
  },
  {
   "cell_type": "code",
   "execution_count": null,
   "metadata": {},
   "outputs": [],
   "source": [
    "df = pyam.IamDataFrame(data_folder / \"ENGAGE_fig3.xlsx\")"
   ]
  },
  {
   "cell_type": "markdown",
   "metadata": {},
   "source": [
    "All figures in this notebook use the same scenario."
   ]
  },
  {
   "cell_type": "code",
   "execution_count": null,
   "metadata": {},
   "outputs": [],
   "source": [
    "scenario = \"EN_NPi2020_1000\""
   ]
  },
  {
   "cell_type": "markdown",
   "metadata": {},
   "source": [
    "Apply renaming for nicer plots."
   ]
  },
  {
   "cell_type": "code",
   "execution_count": null,
   "metadata": {},
   "outputs": [],
   "source": [
    "df.rename(model=rc['rename_mapping']['model'], inplace=True)\n",
    "df.rename(region=rc['rename_mapping']['region'], inplace=True)"
   ]
  },
  {
   "cell_type": "markdown",
   "metadata": {},
   "source": [
    "The REMIND model does not reach net-zero CO2 emissions before the end of the century in the selected scenario\n",
    "used in these figures.\n",
    "\n",
    "It is therefore excluded from this notebook."
   ]
  },
  {
   "cell_type": "code",
   "execution_count": null,
   "metadata": {},
   "outputs": [],
   "source": [
    "df = (\n",
    "    df.filter(scenario=scenario)\n",
    "    .filter(model=\"REMIND*\", keep=False)\n",
    "    .convert_unit(\"Mt CO2/yr\", \"Gt CO2/yr\")\n",
    ")"
   ]
  },
  {
   "cell_type": "markdown",
   "metadata": {},
   "source": [
    "## Prepare CO2 emissions data\n",
    "\n",
    "Aggregate two categories of \"Other\" emissions to show as one category."
   ]
  },
  {
   "cell_type": "code",
   "execution_count": null,
   "metadata": {},
   "outputs": [],
   "source": [
    "components = [f\"Emissions|CO2|{i}\" for i in [\"Other\", \"Energy|Demand|Other\"]]\n",
    "df_other = df.aggregate(variable=\"Emissions|CO2|Other\", components=components)\n",
    "df = df.filter(variable=components, keep=False).append(df_other)"
   ]
  },
  {
   "cell_type": "code",
   "execution_count": null,
   "metadata": {},
   "outputs": [],
   "source": [
    "sectors_mapping = {\n",
    "    \"AFOLU\": \"AFOLU\",\n",
    "    \"Energy|Demand\": \"Energy Demand\",\n",
    "    \"Energy|Demand|Industry\": \"Industry\",\n",
    "    \"Energy|Demand|Transportation\": \"Transportation\",\n",
    "    \"Energy|Demand|Residential and Commercial\": \"Buildings\",\n",
    "    \"Energy|Supply\": \"Energy Supply\",\n",
    "    \"Industrial Processes\": \"Industrial Processes\",\n",
    "    \"Other\": \"Other\"\n",
    "}\n",
    "\n",
    "# explode short dictionary-keys to full variable string\n",
    "for key in list(sectors_mapping):\n",
    "    sectors_mapping[f\"Emissions|CO2|{key}\"] = sectors_mapping.pop(key)\n",
    "\n",
    "df.rename(variable=sectors_mapping, inplace=True)\n",
    "sectors = list(sectors_mapping.values())"
   ]
  },
  {
   "cell_type": "markdown",
   "metadata": {},
   "source": [
    "## Development of emissions by sector & regions in one illustrative model\n",
    "\n",
    "This section generates Figure 1.1-15 in the Supplementary Information."
   ]
  },
  {
   "cell_type": "code",
   "execution_count": null,
   "metadata": {},
   "outputs": [],
   "source": [
    "model='MESSAGEix-GLOBIOM'"
   ]
  },
  {
   "cell_type": "code",
   "execution_count": null,
   "metadata": {},
   "outputs": [],
   "source": [
    "df_sector = (\n",
    "    df.filter(variable=sectors)\n",
    "    .filter(region='World', keep=False)\n",
    "    .filter(variable='Energy Demand', keep=False)  # show disaggregation of demand sectors\n",
    ")"
   ]
  },
  {
   "cell_type": "code",
   "execution_count": null,
   "metadata": {
    "scrolled": true
   },
   "outputs": [],
   "source": [
    "_df_sector = df_sector.filter(model=model)\n",
    "fig, ax = plt.subplots(1, len(_df_sector.region), figsize=(12, 4), sharey=True)\n",
    "\n",
    "for i, r in enumerate(_df_sector.region):\n",
    "    (\n",
    "        _df_sector.filter(region=r)\n",
    "        .plot.stack(ax=ax[i], total=dict(lw=3, color='black'), title=None, legend=False)\n",
    "    )\n",
    "\n",
    "    ax[i].set_xlabel(None)\n",
    "    ax[i].set_ylabel(None)\n",
    "    ax[i].set_title(r)\n",
    "\n",
    "plt.tight_layout()\n",
    "ax[0].set_ylabel(\"Gt CO2\")\n",
    "ax[i].legend(loc=1)\n",
    "\n",
    "plt.tight_layout()\n",
    "fig.savefig(output_folder / f\"fig3_annex_sectoral_regional_illustrative.{output_format}\", **plot_args)"
   ]
  },
  {
   "cell_type": "markdown",
   "metadata": {},
   "source": [
    "## Emissions by sectors & regions in the year of net-zero\n",
    "\n",
    "This section generates Figure 1.1-16 in the Supplementary Information."
   ]
  },
  {
   "cell_type": "code",
   "execution_count": null,
   "metadata": {},
   "outputs": [],
   "source": [
    "lst = []\n",
    "\n",
    "df_sector.filter(region=\"Other\", keep=False, inplace=True)\n",
    "\n",
    "df_netzero = get_netzero_data(df_sector, \"netzero|CO2\", default_year=2100)"
   ]
  },
  {
   "cell_type": "code",
   "execution_count": null,
   "metadata": {},
   "outputs": [],
   "source": [
    "fig, ax = plt.subplots(1, len(df_sector.region), figsize=(12, 4), sharey=True)\n",
    "\n",
    "for i, r in enumerate(df_sector.region):\n",
    "    df_netzero.filter(region=r).plot.bar(ax=ax[i], x=\"model\", stacked=True, legend=False)\n",
    "    ax[i].axhline(0, color=\"black\", linewidth=0.5)\n",
    "\n",
    "    ax[i].set_title(r)\n",
    "    ax[i].set_xlabel(None)\n",
    "\n",
    "ax[i].set_ylim(-6, 6)\n",
    "^\n",
    "plt.tight_layout()\n",
    "fig.savefig(output_folder / f\"fig3_annex_sectoral_regional_netzero.{output_format}\", **plot_args)"
   ]
  },
  {
   "cell_type": "code",
   "execution_count": null,
   "metadata": {},
   "outputs": [],
   "source": []
  }
 ],
 "metadata": {
  "kernelspec": {
   "display_name": "Python 3 (ipykernel)",
   "language": "python",
   "name": "python3"
  },
  "language_info": {
   "codemirror_mode": {
    "name": "ipython",
    "version": 3
   },
   "file_extension": ".py",
   "mimetype": "text/x-python",
   "name": "python",
   "nbconvert_exporter": "python",
   "pygments_lexer": "ipython3",
   "version": "3.9.7"
  }
 },
 "nbformat": 4,
 "nbformat_minor": 4
}
