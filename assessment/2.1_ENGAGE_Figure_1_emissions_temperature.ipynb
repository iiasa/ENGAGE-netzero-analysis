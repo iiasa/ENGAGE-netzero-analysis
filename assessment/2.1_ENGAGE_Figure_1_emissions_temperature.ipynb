{
 "cells": [
  {
   "cell_type": "markdown",
   "metadata": {},
   "source": [
    "<img style=\"float: right; height: 80px;\" src=\"../_static/ENGAGE.png\">\n",
    "\n",
    "# 2.1. Figure 1 - Emissions and temperature characteristics\n",
    "\n",
    "<a href=\"https://github.com/iiasa/ENGAGE-netzero-analysis/blob/main/LICENSE\">\n",
    "<img style=\"float: left; height: 30px; padding: 5px; margin-top: 8px; \" src=\"https://img.shields.io/github/license/iiasa/ENGAGE-netzero-analysis\">\n",
    "</a>\n",
    "\n",
    "Licensed under the [MIT License](https://github.com/iiasa/ENGAGE-netzero-analysis/blob/main/LICENSE).\n",
    "\n",
    "This notebook is part of a repository to generate figures and analysis for the manuscript\n",
    "\n",
    "> Keywan Riahi, Christoph Bertram, Daniel Huppmann, et al. <br />\n",
    "> Cost and attainability of meeting stringent climate targets without overshoot <br />\n",
    "> **Nature Climate Change**, 2021 <br />\n",
    "> doi: [10.1038/s41558-021-01215-2](https://doi.org/10.1038/s41558-021-01215-2)\n",
    "\n",
    "The scenario data used in this analysis should be cited as\n",
    "\n",
    "> ENGAGE Global Scenarios (Version 2.0) <br />\n",
    "> doi: [10.5281/zenodo.5553976](https://doi.org/10.5281/zenodo.5553976)\n",
    "\n",
    "The data can be accessed and downloaded via the **ENGAGE Scenario Explorer** at [https://data.ece.iiasa.ac.at/engage](https://data.ece.iiasa.ac.at/engage).<br />\n",
    "*Please refer to the [license](https://data.ece.iiasa.ac.at/engage/#/license)\n",
    "of the scenario ensemble before redistributing this data or adapted material.*\n",
    "\n",
    "The source code of this notebook is available on GitHub\n",
    "at [https://github.com/iiasa/ENGAGE-netzero-analysis](https://github.com/iiasa/ENGAGE-netzero-analysis).<br />\n",
    "A rendered version can be seen at [https://data.ece.iiasa.ac.at/engage-netzero-analysis](https://data.ece.iiasa.ac.at/engage-netzero-analysis)."
   ]
  },
  {
   "cell_type": "code",
   "execution_count": null,
   "metadata": {},
   "outputs": [],
   "source": [
    "from pathlib import Path\n",
    "import numpy as np\n",
    "import pandas as pd\n",
    "import matplotlib as mpl\n",
    "import matplotlib.pyplot as plt\n",
    "import seaborn as sns\n",
    "\n",
    "import pyam"
   ]
  },
  {
   "cell_type": "markdown",
   "metadata": {},
   "source": [
    "## Import the scenario snapshot used for this analysis and the plotting configuration"
   ]
  },
  {
   "cell_type": "code",
   "execution_count": null,
   "metadata": {},
   "outputs": [],
   "source": [
    "data_folder = Path(\"../data/\")\n",
    "\n",
    "output_folder = Path(\"output\")\n",
    "output_format = \"png\"\n",
    "plot_args = dict(facecolor=\"white\", dpi=300)"
   ]
  },
  {
   "cell_type": "code",
   "execution_count": null,
   "metadata": {},
   "outputs": [],
   "source": [
    "rc = pyam.run_control()\n",
    "rc.update(\"plotting_config.yaml\")"
   ]
  },
  {
   "cell_type": "code",
   "execution_count": null,
   "metadata": {},
   "outputs": [],
   "source": [
    "df = (\n",
    "    pyam.IamDataFrame(data_folder / \"ENGAGE_fig1.xlsx\")\n",
    "    .filter(year=range(2010, 2101, 5))\n",
    "    .convert_unit(\"Mt CO2-equiv/yr\", \"Gt CO2e/yr\")\n",
    "    .convert_unit(\"Mt CO2/yr\", \"Gt CO2/yr\")\n",
    ")"
   ]
  },
  {
   "cell_type": "markdown",
   "metadata": {},
   "source": [
    "## Emissions reductions in NDC vs. cost-effective emissions pathways\n",
    "\n",
    "The following cells compute the statistics of GHG emissions across pathways\n",
    "used in the section \"**Implications for emissions pathways**\" of the manuscript."
   ]
  },
  {
   "cell_type": "code",
   "execution_count": null,
   "metadata": {},
   "outputs": [],
   "source": [
    "df_ghg = df.filter(variable=\"Emissions|Kyoto Gases\")"
   ]
  },
  {
   "cell_type": "code",
   "execution_count": null,
   "metadata": {},
   "outputs": [],
   "source": [
    "stats = pyam.Statistics(\n",
    "    df=df_ghg,\n",
    "    filters=[\n",
    "        (\"NDC\", {\"scenario_family\": \"INDCi\", \"budget_type\": \"reference\"}),\n",
    "        (\"2°C\", {\"scenario_family\": \"NPi\", \"category\": \"2C\"}),\n",
    "        (\"1.5°C\", {\"scenario_family\": \"NPi\", \"category\": \"1.5C (with low overshoot)\"}),\n",
    "    ]\n",
    ")"
   ]
  },
  {
   "cell_type": "code",
   "execution_count": null,
   "metadata": {},
   "outputs": [],
   "source": [
    "stats.add(df_ghg.filter(year=[2020, 2030, 2050, 2100]).timeseries(), \"GHG emissions\")"
   ]
  },
  {
   "cell_type": "code",
   "execution_count": null,
   "metadata": {},
   "outputs": [],
   "source": [
    "stats.summarize()"
   ]
  },
  {
   "cell_type": "markdown",
   "metadata": {},
   "source": [
    "## Panel a - GHG emissions developments in stringent mitigation scenarios\n",
    "\n",
    "GHG emissions in NDC scenarios (grey) compared to stringent mitigation scenarios that reach peak temperatures below 2°C with limited overshoot (net-zero budget scenarios, blue) and mitigation scenarios with the same long-term carbon budget with temperature overshoot (end-of-century budget scenarios, red)."
   ]
  },
  {
   "cell_type": "code",
   "execution_count": null,
   "metadata": {},
   "outputs": [],
   "source": [
    "fig, ax = plt.subplots(figsize=(4, 5))\n",
    "\n",
    "ref_df = df.filter(\n",
    "    variable='Emissions|Kyoto Gases',\n",
    "    budget_type='reference', scenario_family='INDCi'\n",
    ")\n",
    "ref_df.plot(ax=ax, color='category', fill_between=True)\n",
    "\n",
    "npi_df = df.filter(\n",
    "    scenario_family='NPi',\n",
    "    category_peak=['1.5C (with low overshoot)', '2C'],\n",
    "    variable='Emissions|Kyoto Gases'\n",
    ")\n",
    "npi_df.plot(ax=ax, color='budget_type', fill_between=True)\n",
    "\n",
    "plt.hlines(y=0, xmin=2010, xmax=2100, color=\"black\", linewidths=0.5)\n",
    "\n",
    "pyam.plotting.set_panel_label(f\"n={len(ref_df.index) + len(npi_df.index)}\", ax=ax, x=0.7, y=0.95)\n",
    "ax.set_title(None)\n",
    "ax.set_xlabel(None)\n",
    "ax.legend([mpl.lines.Line2D([0, 1], [0, 1], color=c) for c in ['grey', 'blue', 'red']],\n",
    "          ['NDC', 'Net-zero budget', 'End-of-century budget'], loc=3)\n",
    "\n",
    "plt.tight_layout()\n",
    "fig.savefig(output_folder / f\"fig1a_ghg.{output_format}\", **plot_args)"
   ]
  },
  {
   "cell_type": "markdown",
   "metadata": {},
   "source": [
    "## Panel b - Residual non-CO2 emissions\n",
    "\n",
    "Residual non-CO2 emissions after the point of reaching net-zero CO2 emissions for specified temperature stabilization levels.\n",
    "The box shows the quartiles of the dataset while the whiskers extend to show the rest of the distribution."
   ]
  },
  {
   "cell_type": "code",
   "execution_count": null,
   "metadata": {},
   "outputs": [],
   "source": [
    "df_nonco2 = (\n",
    "    df\n",
    "    .filter(budget_type=\"reference\", keep=False)\n",
    "    .filter(scenario_family=\"NPi\")\n",
    "    .subtract(\"Emissions|Kyoto Gases\", \"Emissions|CO2\", \"Emissions|Non-CO2\", ignore_units=\"Gt CO2e/yr\")\n",
    ")"
   ]
  },
  {
   "cell_type": "code",
   "execution_count": null,
   "metadata": {},
   "outputs": [],
   "source": [
    "def get_from_meta_column(df, x, col):\n",
    "    val = df.meta.loc[x.name[0:2], col]\n",
    "    return val if val < np.inf else max(x.index)"
   ]
  },
  {
   "cell_type": "code",
   "execution_count": null,
   "metadata": {},
   "outputs": [],
   "source": [
    "df_nonco2.set_meta( \n",
    "    df_nonco2.timeseries().apply(\n",
    "        lambda x: pyam.fill_series(x, get_from_meta_column(df, x, \"netzero|CO2\")),\n",
    "        raw=False, axis=1),\n",
    "    \"non-CO2 in year of CO2 net-zero\"\n",
    ")"
   ]
  },
  {
   "cell_type": "code",
   "execution_count": null,
   "metadata": {},
   "outputs": [],
   "source": [
    "def get_average(x, y):\n",
    "    # downselect to years after netzero `y`\n",
    "    _x = x[[i > y for i in x.index]]\n",
    "    # concatenate value in year of netyero `y` with series after `y`, and compute average\n",
    "    return pd.concat([pd.Series(pyam.fill_series(x, y), index=[y]), _x]).mean()"
   ]
  },
  {
   "cell_type": "code",
   "execution_count": null,
   "metadata": {},
   "outputs": [],
   "source": [
    "df_nonco2.set_meta( \n",
    "    df_nonco2.timeseries().apply(\n",
    "        lambda x: get_average(x, get_from_meta_column(df, x, \"netzero|CO2\")),\n",
    "        raw=False, axis=1),\n",
    "    \"average non-CO2 after year of CO2 net-zero\"\n",
    ")"
   ]
  },
  {
   "cell_type": "code",
   "execution_count": null,
   "metadata": {},
   "outputs": [],
   "source": [
    "fig, ax = plt.subplots(figsize=(4, 3))\n",
    "\n",
    "df_nonco2.plot.box(\n",
    "    ax=ax,\n",
    "    x=\"average non-CO2 after year of CO2 net-zero\",\n",
    "    y=\"category\",\n",
    "    order=[\">2.5C\", \"2.5C\", \"2C\", \"1.5C (with low overshoot)\"],\n",
    "    palette=rc[\"color\"][\"category\"],\n",
    "    legend=False,\n",
    ")\n",
    "\n",
    "ax.set_title(None)\n",
    "ax.set_xlabel(\"Mean non-CO2 emissions (Gt CO2e/yr)\")\n",
    "ax.set_xlim(2.1, 12.5)\n",
    "ax.set_ylabel(None)\n",
    "ax.set_yticklabels([\">2.5C\", \"2.5C\", \"2C\", \"1.5C (with\\nlow overshoot)\"])\n",
    "pyam.plotting.set_panel_label(f\"n={len(df_nonco2.index)}\", ax=ax, x=0.8, y=0.05)\n",
    "\n",
    "plt.tight_layout()\n",
    "fig.savefig(output_folder / f\"fig1b_non_co2.{output_format}\", **plot_args)"
   ]
  },
  {
   "cell_type": "markdown",
   "metadata": {},
   "source": [
    "## Panel c - Cumulative net-negative CO2 emissions\n",
    "\n",
    "Relationship between cumulative net-negative CO2 emissions (NNCE) and resulting temperature drawdown after peak temperature (that is, overshoot); net-zero scenarios (red) and end-of-century scenarios (blue). "
   ]
  },
  {
   "cell_type": "code",
   "execution_count": null,
   "metadata": {},
   "outputs": [],
   "source": [
    "df_co2 = df.filter(variable=\"Emissions|CO2\")"
   ]
  },
  {
   "cell_type": "markdown",
   "metadata": {},
   "source": [
    "Derive net-negative CO2 emissions and set as quantitative meta indicator"
   ]
  },
  {
   "cell_type": "code",
   "execution_count": null,
   "metadata": {},
   "outputs": [],
   "source": [
    "co2_netneg = df_co2.timeseries().applymap(lambda x: - min(x, 0))\n",
    "\n",
    "nn_label = \"Cumulative net-negative CO2 emissions (GtCO2)\"\n",
    "df_co2.set_meta(\n",
    "    meta=co2_netneg.apply(pyam.cumulative, axis=1, first_year=2020, last_year=2100),\n",
    "    name=nn_label\n",
    ")"
   ]
  },
  {
   "cell_type": "markdown",
   "metadata": {},
   "source": [
    "Remove all scenarios that do not report GHG explicitly for comparibility to panel b"
   ]
  },
  {
   "cell_type": "code",
   "execution_count": null,
   "metadata": {},
   "outputs": [],
   "source": [
    "df_ghg_nonref = df_ghg.filter(budget_type='reference', keep=False)\n",
    "\n",
    "df_co2.set_meta(meta=True, name=\"has_ghg\", index=df_ghg_nonref.index)\n",
    "df_co2.filter(has_ghg=True, inplace=True)"
   ]
  },
  {
   "cell_type": "markdown",
   "metadata": {},
   "source": [
    "Plot the data!"
   ]
  },
  {
   "cell_type": "code",
   "execution_count": null,
   "metadata": {},
   "outputs": [],
   "source": [
    "overshoot_label = 'Temperature overshoot (°C)'\n",
    "df_co2.meta[overshoot_label] = df_co2.meta['median warming peak-and-decline']\n",
    "\n",
    "_df_co2 = df_co2.filter().filter(scenario_family=\"NPi\")\n",
    "\n",
    "fig, ax = plt.subplots(figsize=(4, 3))\n",
    "_df_co2.plot.scatter(ax=ax, x=nn_label, y=overshoot_label, color='budget_type', legend=False)\n",
    "\n",
    "ax.set_title(None)\n",
    "pyam.plotting.set_panel_label(f\"n={len(_df_co2.index)}\", ax=ax, x=0.8, y=0.05)\n",
    "\n",
    "plt.tight_layout()\n",
    "fig.savefig(output_folder / f'fig1c_overshoot_netnegative_co2.{output_format}', **plot_args)"
   ]
  },
  {
   "cell_type": "markdown",
   "metadata": {},
   "source": [
    "## Panel d - Relationship between the budget and time of net-zero\n",
    "\n",
    "Timing of when net-zero CO2 emissions are reached. Net-zero budget scenarios consistent with 1.5 °C (low overshoot)\n",
    "and 2 °C respectively (blue bars) are compared to scenarios with the same end-of-century carbon budget with net-negative emissions (red bars).\n",
    "The height of the bars indicates the number of scenarios that reach net zero at the specific year."
   ]
  },
  {
   "cell_type": "code",
   "execution_count": null,
   "metadata": {},
   "outputs": [],
   "source": [
    "netzero_bins = list(range(2050, 2101, 5)) + [\">2100\"]\n",
    "\n",
    "def assign_nz_bin(x):\n",
    "    for b in netzero_bins:\n",
    "        try:\n",
    "            if x < b:\n",
    "                return b\n",
    "        # this approach works as long as only the last item is a string\n",
    "        except TypeError:\n",
    "            return b"
   ]
  },
  {
   "cell_type": "code",
   "execution_count": null,
   "metadata": {},
   "outputs": [],
   "source": [
    "cats_2c = [\"1.5C (with low overshoot)\", \"2C\"]"
   ]
  },
  {
   "cell_type": "code",
   "execution_count": null,
   "metadata": {},
   "outputs": [],
   "source": [
    "x = df.filter(category_peak=cats_2c, scenario_family=\"NPi\").meta"
   ]
  },
  {
   "cell_type": "code",
   "execution_count": null,
   "metadata": {},
   "outputs": [],
   "source": [
    "x[\"netzero\"] = x[\"netzero|CO2\"].apply(assign_nz_bin)"
   ]
  },
  {
   "cell_type": "markdown",
   "metadata": {},
   "source": [
    "The **pyam** package does not support histogram-type plots, so panel d is implemented directly in **seaborn**."
   ]
  },
  {
   "cell_type": "code",
   "execution_count": null,
   "metadata": {},
   "outputs": [],
   "source": [
    "fig, ax = plt.subplots(2, 1, figsize=(4, 3), sharex=True, sharey=True)\n",
    "\n",
    "for i, label in enumerate(cats_2c):\n",
    "    _x = x[x[\"category_peak\"] == label]\n",
    "    sns.countplot(\n",
    "        ax=ax[i],\n",
    "        data=_x,\n",
    "        x=\"netzero\",\n",
    "        hue=\"budget_type\",\n",
    "        order=netzero_bins,\n",
    "        palette=dict(peak_budget=\"blue\", full_century_budget=\"red\"),\n",
    "    )\n",
    "    ax[i].set_xlabel(None)\n",
    "\n",
    "    ax[i].set_xticklabels([2050, \"\", 2060, \"\", 2070, \"\", 2080, \"\", 2090, \"\", 2100, \"\"])\n",
    "    ax[i].set_ylabel(label)\n",
    "    ax[i].get_legend().remove()\n",
    "\n",
    "pyam.plotting.set_panel_label(f\"n={len(x['netzero'])}\", ax=ax[0], x=0.8, y=0.8)\n",
    "\n",
    "ax[0].set_ylabel(\"1.5C (with\\nlow overshoot)\")\n",
    "ax[1].set_xlabel(\"Year when net zero CO2 emissions are reached\")\n",
    "\n",
    "plt.tight_layout()\n",
    "fig.savefig(output_folder / f\"fig1d_netzero_year_hist_by_category.{output_format}\", **plot_args)"
   ]
  },
  {
   "cell_type": "code",
   "execution_count": null,
   "metadata": {},
   "outputs": [],
   "source": []
  }
 ],
 "metadata": {
  "kernelspec": {
   "display_name": "Python 3 (ipykernel)",
   "language": "python",
   "name": "python3"
  },
  "language_info": {
   "codemirror_mode": {
    "name": "ipython",
    "version": 3
   },
   "file_extension": ".py",
   "mimetype": "text/x-python",
   "name": "python",
   "nbconvert_exporter": "python",
   "pygments_lexer": "ipython3",
   "version": "3.9.7"
  }
 },
 "nbformat": 4,
 "nbformat_minor": 4
}
